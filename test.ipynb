{
 "cells": [
  {
   "cell_type": "code",
   "execution_count": 9,
   "id": "41072e87",
   "metadata": {},
   "outputs": [
    {
     "data": {
      "text/plain": [
       "<coroutine object get_real_weather at 0x10831b780>"
      ]
     },
     "execution_count": 9,
     "metadata": {},
     "output_type": "execute_result"
    }
   ],
   "source": [
    "import asyncio\n",
    "import python_weather\n",
    "from datetime import datetime\n",
    "import logging\n",
    "\n",
    "logger = logging.getLogger(__name__)\n",
    "WEATHER_LOCATION = \"New York City\"  # or set from env/config\n",
    "\n",
    "async def get_real_weather():\n",
    "    async with python_weather.Client(unit=python_weather.IMPERIAL) as client:\n",
    "        try:\n",
    "            weather = await client.get(WEATHER_LOCATION)\n",
    "\n",
    "            precipitation_chance = 0\n",
    "            now = datetime.now().hour\n",
    "\n",
    "            for daily in weather:\n",
    "                for hourly in daily:\n",
    "                    if hourly.time.hour >= now:\n",
    "                        # hourly.chances_of_rain and chances_of_snow are available\n",
    "                        precipitation_chance = max(hourly.chances_of_rain, hourly.chances_of_snow)\n",
    "                        break\n",
    "                if precipitation_chance:\n",
    "                    break\n",
    "\n",
    "            return {\n",
    "                \"temperature\": int(weather.current.temperature),\n",
    "                \"precipitation\": precipitation_chance,\n",
    "                \"conditions\": str(weather.current.description)\n",
    "            }\n",
    "        except Exception as e:\n",
    "            logger.error(f\"Could not fetch real weather: {e}\")\n",
    "            return {\n",
    "                \"temperature\": 0,\n",
    "                \"precipitation\": 0,\n",
    "                \"conditions\": \"Failed to fetch weather data\"\n",
    "            }\n",
    "get_real_weather()"
   ]
  },
  {
   "cell_type": "code",
   "execution_count": 12,
   "id": "aed5edc3",
   "metadata": {},
   "outputs": [
    {
     "data": {
      "text/plain": [
       "{'time': '2025-08-17T17:00:00Z', 'temperature': 32.6, 'wind': 4.5}"
      ]
     },
     "execution_count": 12,
     "metadata": {},
     "output_type": "execute_result"
    }
   ],
   "source": [
    "import aiohttp\n",
    "import asyncio\n",
    "\n",
    "async def get_met_weather(lat=40.7128, lon=-74.0060):\n",
    "    url = f\"https://api.met.no/weatherapi/locationforecast/2.0/compact?lat={lat}&lon={lon}\"\n",
    "    headers = {\n",
    "        \"User-Agent\": \"Mozilla/5.0 (Macintosh; Intel Mac OS X 10_15_7) AppleWebKit/537.36 (KHTML, like Gecko) Chrome/139.0.0.0 Safari/537.36\"\n",
    "    }\n",
    "    async with aiohttp.ClientSession() as session:\n",
    "        async with session.get(url, headers=headers) as resp:\n",
    "            data = await resp.json()\n",
    "            current = data[\"properties\"][\"timeseries\"][0]\n",
    "            return {\n",
    "                \"time\": current[\"time\"],\n",
    "                \"temperature\": current[\"data\"][\"instant\"][\"details\"][\"air_temperature\"],\n",
    "                \"wind\": current[\"data\"][\"instant\"][\"details\"][\"wind_speed\"]\n",
    "            }\n",
    "\n",
    "# In Jupyter:\n",
    "import nest_asyncio\n",
    "nest_asyncio.apply()\n",
    "\n",
    "# Then run:\n",
    "weather = await get_met_weather()\n",
    "weather\n"
   ]
  },
  {
   "cell_type": "code",
   "execution_count": 10,
   "id": "fe37579d",
   "metadata": {},
   "outputs": [
    {
     "name": "stderr",
     "output_type": "stream",
     "text": [
      "Could not fetch real weather: 'Forecast' object has no attribute 'current'\n"
     ]
    },
    {
     "data": {
      "text/plain": [
       "{'temperature': 0,\n",
       " 'precipitation': 0,\n",
       " 'conditions': 'Failed to fetch weather data'}"
      ]
     },
     "execution_count": 10,
     "metadata": {},
     "output_type": "execute_result"
    }
   ],
   "source": [
    "# Run in a Jupyter cell\n",
    "daily_forecasts = await get_real_weather()\n",
    "daily_forecasts"
   ]
  },
  {
   "cell_type": "code",
   "execution_count": null,
   "id": "3a6207b7",
   "metadata": {},
   "outputs": [
    {
     "data": {
      "text/plain": [
       "<coroutine object get_real_weather at 0x110ddd000>"
      ]
     },
     "execution_count": 3,
     "metadata": {},
     "output_type": "execute_result"
    }
   ],
   "source": []
  }
 ],
 "metadata": {
  "kernelspec": {
   "display_name": "venv",
   "language": "python",
   "name": "python3"
  },
  "language_info": {
   "codemirror_mode": {
    "name": "ipython",
    "version": 3
   },
   "file_extension": ".py",
   "mimetype": "text/x-python",
   "name": "python",
   "nbconvert_exporter": "python",
   "pygments_lexer": "ipython3",
   "version": "3.13.5"
  }
 },
 "nbformat": 4,
 "nbformat_minor": 5
}
